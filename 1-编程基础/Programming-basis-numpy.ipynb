{
 "cells": [
  {
   "cell_type": "markdown",
   "id": "41b8029a",
   "metadata": {},
   "source": [
    "# 1. numpy基础"
   ]
  },
  {
   "cell_type": "code",
   "execution_count": 1,
   "id": "1dd6baa6",
   "metadata": {},
   "outputs": [],
   "source": [
    "import numpy as np"
   ]
  },
  {
   "cell_type": "code",
   "execution_count": 4,
   "id": "51cfdbb8",
   "metadata": {},
   "outputs": [
    {
     "name": "stdout",
     "output_type": "stream",
     "text": [
      "[256.]\n",
      "float64\n"
     ]
    }
   ],
   "source": [
    "ls = [255]\n",
    "array = np.array(ls,dtype=np.uint8)\n",
    "new = 1.0+array\n",
    "print(new)\n",
    "print(new.dtype)"
   ]
  },
  {
   "cell_type": "markdown",
   "id": "5335d25b",
   "metadata": {},
   "source": [
    "## 1.1 创建矩阵"
   ]
  },
  {
   "cell_type": "code",
   "execution_count": 5,
   "id": "d390be48",
   "metadata": {},
   "outputs": [
    {
     "name": "stdout",
     "output_type": "stream",
     "text": [
      "[[1 2 3]\n",
      " [4 5 6]\n",
      " [7 8 9]]\n"
     ]
    }
   ],
   "source": [
    "# 直接把python的组合数据类型变成numpy的ndarray类型\n",
    "ls = [[1,2,3],\n",
    "      [4,5,6],\n",
    "      [7,8,9]]\n",
    "array = np.array(ls)\n",
    "print(array)"
   ]
  },
  {
   "cell_type": "code",
   "execution_count": 3,
   "id": "d336a985",
   "metadata": {},
   "outputs": [
    {
     "name": "stdout",
     "output_type": "stream",
     "text": [
      "<class 'numpy.ndarray'>\n",
      "2\n",
      "9\n",
      "(3, 3)\n",
      "int32\n",
      "4\n"
     ]
    }
   ],
   "source": [
    "# numpy数组的属性\n",
    "print( type(array) )\n",
    "print( array.ndim )\n",
    "print( array.size )\n",
    "print( array.shape )\n",
    "print( array.dtype )\n",
    "print( array.itemsize )"
   ]
  },
  {
   "cell_type": "code",
   "execution_count": 4,
   "id": "180969e0",
   "metadata": {},
   "outputs": [
    {
     "name": "stdout",
     "output_type": "stream",
     "text": [
      "[[0. 0. 0. 0. 0.]\n",
      " [0. 0. 0. 0. 0.]\n",
      " [0. 0. 0. 0. 0.]]\n"
     ]
    }
   ],
   "source": [
    "# 创建全零矩阵\n",
    "zeros = np.zeros(shape=(3, 5))\n",
    "print(zeros)"
   ]
  },
  {
   "cell_type": "code",
   "execution_count": 5,
   "id": "e1a26607",
   "metadata": {},
   "outputs": [
    {
     "name": "stdout",
     "output_type": "stream",
     "text": [
      "[[[1. 1. 1. 1. 1.]\n",
      "  [1. 1. 1. 1. 1.]\n",
      "  [1. 1. 1. 1. 1.]]]\n",
      "[[1. 1. 1. 1. 1.]\n",
      " [1. 1. 1. 1. 1.]\n",
      " [1. 1. 1. 1. 1.]]\n"
     ]
    }
   ],
   "source": [
    "# 创建全1矩阵\n",
    "ones = np.ones(shape=(1,3,5))\n",
    "print(ones)\n",
    "ones = np.squeeze(ones)\n",
    "print(ones)"
   ]
  },
  {
   "cell_type": "code",
   "execution_count": 6,
   "id": "9fc704ba",
   "metadata": {},
   "outputs": [
    {
     "name": "stdout",
     "output_type": "stream",
     "text": [
      "[ 0  1  2  3  4  5  6  7  8  9 10 11 12 13 14 15 16 17 18 19 20 21 22 23\n",
      " 24 25 26 27 28 29 30 31 32 33 34 35 36 37 38 39 40 41 42 43 44 45 46 47\n",
      " 48 49 50 51 52 53 54 55 56 57 58 59 60 61 62 63 64 65 66 67 68 69 70 71\n",
      " 72 73 74 75 76 77 78 79 80 81 82 83 84 85 86 87 88 89]\n"
     ]
    }
   ],
   "source": [
    "# 创建顺序数组\n",
    "aranged = np.arange(90)\n",
    "print(aranged)"
   ]
  },
  {
   "cell_type": "code",
   "execution_count": 7,
   "id": "8a92511a",
   "metadata": {},
   "outputs": [
    {
     "name": "stdout",
     "output_type": "stream",
     "text": [
      "[[1. 0. 0. 0. 0.]\n",
      " [0. 1. 0. 0. 0.]\n",
      " [0. 0. 1. 0. 0.]\n",
      " [0. 0. 0. 1. 0.]\n",
      " [0. 0. 0. 0. 1.]]\n"
     ]
    }
   ],
   "source": [
    "# 创建单位矩阵\n",
    "print( np.eye(5) )"
   ]
  },
  {
   "cell_type": "code",
   "execution_count": 8,
   "id": "8a06e0d7",
   "metadata": {},
   "outputs": [
    {
     "name": "stdout",
     "output_type": "stream",
     "text": [
      "[0.   1.25 2.5  3.75 5.  ]\n"
     ]
    }
   ],
   "source": [
    "# 创建等差数列\n",
    "print( np.linspace(0,5,5) )"
   ]
  },
  {
   "cell_type": "code",
   "execution_count": 9,
   "id": "ee714977",
   "metadata": {},
   "outputs": [
    {
     "name": "stdout",
     "output_type": "stream",
     "text": [
      "[1.00000000e+00 1.77827941e+01 3.16227766e+02 5.62341325e+03\n",
      " 1.00000000e+05]\n"
     ]
    }
   ],
   "source": [
    "# 创建等比数列\n",
    "print( np.logspace(0,5,5) )"
   ]
  },
  {
   "cell_type": "markdown",
   "id": "eeb9d375",
   "metadata": {},
   "source": [
    "## 1.2 改变数组形状"
   ]
  },
  {
   "cell_type": "code",
   "execution_count": 10,
   "id": "651e11b9",
   "metadata": {},
   "outputs": [
    {
     "name": "stdout",
     "output_type": "stream",
     "text": [
      "[ 0  1  2  3  4  5  6  7  8  9 10 11 12 13 14 15 16 17 18 19 20 21 22 23\n",
      " 24 25 26 27 28 29 30 31 32 33 34 35 36 37 38 39 40 41 42 43 44 45 46 47\n",
      " 48 49 50 51 52 53 54 55 56 57 58 59 60 61 62 63 64 65 66 67 68 69 70 71\n",
      " 72 73 74 75 76 77 78 79 80 81 82 83 84 85 86 87 88 89]\n"
     ]
    }
   ],
   "source": [
    "aranged = np.arange(90)\n",
    "print(aranged)"
   ]
  },
  {
   "cell_type": "code",
   "execution_count": 11,
   "id": "14abfbc1",
   "metadata": {},
   "outputs": [
    {
     "name": "stdout",
     "output_type": "stream",
     "text": [
      "[[[ 0  1  2  3  4  5  6  7  8  9]\n",
      "  [10 11 12 13 14 15 16 17 18 19]\n",
      "  [20 21 22 23 24 25 26 27 28 29]]\n",
      "\n",
      " [[30 31 32 33 34 35 36 37 38 39]\n",
      "  [40 41 42 43 44 45 46 47 48 49]\n",
      "  [50 51 52 53 54 55 56 57 58 59]]\n",
      "\n",
      " [[60 61 62 63 64 65 66 67 68 69]\n",
      "  [70 71 72 73 74 75 76 77 78 79]\n",
      "  [80 81 82 83 84 85 86 87 88 89]]]\n",
      "[ 0  1  2  3  4  5  6  7  8  9 10 11 12 13 14 15 16 17 18 19 20 21 22 23\n",
      " 24 25 26 27 28 29 30 31 32 33 34 35 36 37 38 39 40 41 42 43 44 45 46 47\n",
      " 48 49 50 51 52 53 54 55 56 57 58 59 60 61 62 63 64 65 66 67 68 69 70 71\n",
      " 72 73 74 75 76 77 78 79 80 81 82 83 84 85 86 87 88 89]\n"
     ]
    }
   ],
   "source": [
    "new = np.arange(90).reshape(3,3,10)\n",
    "print(new)\n",
    "print(aranged)"
   ]
  },
  {
   "cell_type": "code",
   "execution_count": 12,
   "id": "8114b8c1",
   "metadata": {},
   "outputs": [
    {
     "name": "stdout",
     "output_type": "stream",
     "text": [
      "[[[ 0  1  2  3  4  5  6  7  8  9]\n",
      "  [10 11 12 13 14 15 16 17 18 19]\n",
      "  [20 21 22 23 24 25 26 27 28 29]]\n",
      "\n",
      " [[30 31 32 33 34 35 36 37 38 39]\n",
      "  [40 41 42 43 44 45 46 47 48 49]\n",
      "  [50 51 52 53 54 55 56 57 58 59]]\n",
      "\n",
      " [[60 61 62 63 64 65 66 67 68 69]\n",
      "  [70 71 72 73 74 75 76 77 78 79]\n",
      "  [80 81 82 83 84 85 86 87 88 89]]]\n"
     ]
    }
   ],
   "source": [
    "aranged.resize(3,3,10)\n",
    "print(aranged)"
   ]
  },
  {
   "cell_type": "code",
   "execution_count": 13,
   "id": "406c5f0a",
   "metadata": {},
   "outputs": [
    {
     "name": "stdout",
     "output_type": "stream",
     "text": [
      "[ 0  1  2  3  4  5  6  7  8  9 10 11 12 13 14 15 16 17 18 19 20 21 22 23\n",
      " 24 25 26 27 28 29 30 31 32 33 34 35 36 37 38 39 40 41 42 43 44 45 46 47\n",
      " 48 49 50 51 52 53 54 55 56 57 58 59 60 61 62 63 64 65 66 67 68 69 70 71\n",
      " 72 73 74 75 76 77 78 79 80 81 82 83 84 85 86 87 88 89]\n",
      "(90,)\n"
     ]
    }
   ],
   "source": [
    "print(aranged.flatten())\n",
    "print(aranged.flatten().shape)"
   ]
  },
  {
   "cell_type": "markdown",
   "id": "e46f6146",
   "metadata": {},
   "source": [
    "## 1.3 数组间的运算"
   ]
  },
  {
   "cell_type": "code",
   "execution_count": 14,
   "id": "0f5a1a72",
   "metadata": {},
   "outputs": [
    {
     "name": "stdout",
     "output_type": "stream",
     "text": [
      "[[0 2 4]\n",
      " [1 3 5]\n",
      " [2 4 6]]\n"
     ]
    }
   ],
   "source": [
    "a = np.array([0,1,2])\n",
    "b = np.array([[0,1,2],\n",
    "              [1,2,3],\n",
    "              [2,3,4]])\n",
    "print(a+b)"
   ]
  },
  {
   "cell_type": "code",
   "execution_count": 15,
   "id": "6a1ea141",
   "metadata": {},
   "outputs": [
    {
     "name": "stdout",
     "output_type": "stream",
     "text": [
      "[[0 2 4]\n",
      " [2 4 6]\n",
      " [4 6 8]]\n"
     ]
    }
   ],
   "source": [
    "print( b+b )"
   ]
  },
  {
   "cell_type": "code",
   "execution_count": 16,
   "id": "394c8263",
   "metadata": {},
   "outputs": [
    {
     "name": "stdout",
     "output_type": "stream",
     "text": [
      "[[ 0  1  4]\n",
      " [ 1  4  9]\n",
      " [ 4  9 16]]\n"
     ]
    }
   ],
   "source": [
    "print( b**2 )"
   ]
  },
  {
   "cell_type": "code",
   "execution_count": 17,
   "id": "4bce903b",
   "metadata": {},
   "outputs": [
    {
     "name": "stdout",
     "output_type": "stream",
     "text": [
      "[[2 0]\n",
      " [0 4]]\n",
      "[[5 4]\n",
      " [3 4]]\n",
      "[[5 4]\n",
      " [3 4]]\n"
     ]
    }
   ],
   "source": [
    "# 矩阵乘法\n",
    "A = np.array([[1,1],\n",
    "              [0,1]])\n",
    "B = np.array([[2,0],\n",
    "              [3,4]])\n",
    "print(A*B)   # 矩阵中对应元素相乘\n",
    "print(np.matmul(A,B))    # 真正的矩阵乘法\n",
    "print(np.dot(A,B))    # 真正的矩阵乘法"
   ]
  },
  {
   "cell_type": "code",
   "execution_count": 18,
   "id": "73ba9d1a",
   "metadata": {},
   "outputs": [
    {
     "data": {
      "text/plain": [
       "10"
      ]
     },
     "execution_count": 18,
     "metadata": {},
     "output_type": "execute_result"
    }
   ],
   "source": [
    "# 计算array中所有元素的和\n",
    "np.sum(np.arange(0,5))"
   ]
  },
  {
   "cell_type": "code",
   "execution_count": 19,
   "id": "1773bb68",
   "metadata": {},
   "outputs": [
    {
     "data": {
      "text/plain": [
       "24"
      ]
     },
     "execution_count": 19,
     "metadata": {},
     "output_type": "execute_result"
    }
   ],
   "source": [
    "# 计算array中所有元素的乘积\n",
    "np.prod(np.arange(1,5))"
   ]
  },
  {
   "cell_type": "code",
   "execution_count": 20,
   "id": "ebf80ff4",
   "metadata": {},
   "outputs": [
    {
     "data": {
      "text/plain": [
       "array([1, 1, 1])"
      ]
     },
     "execution_count": 20,
     "metadata": {},
     "output_type": "execute_result"
    }
   ],
   "source": [
    "# 计算array相邻元素的差\n",
    "np.diff(np.arange(1,5))"
   ]
  },
  {
   "cell_type": "code",
   "execution_count": 21,
   "id": "5b650fc3",
   "metadata": {},
   "outputs": [
    {
     "data": {
      "text/plain": [
       "array([1.        , 1.41421356, 1.73205081, 2.        ])"
      ]
     },
     "execution_count": 21,
     "metadata": {},
     "output_type": "execute_result"
    }
   ],
   "source": [
    "# 计算各个元素的平方根\n",
    "np.sqrt(np.arange(1,5))"
   ]
  },
  {
   "cell_type": "code",
   "execution_count": 22,
   "id": "577b9113",
   "metadata": {},
   "outputs": [
    {
     "data": {
      "text/plain": [
       "array([ 2.71828183,  7.3890561 , 20.08553692, 54.59815003])"
      ]
     },
     "execution_count": 22,
     "metadata": {},
     "output_type": "execute_result"
    }
   ],
   "source": [
    "# 计算各个元素的指数值\n",
    "np.exp(np.arange(1,5))"
   ]
  },
  {
   "cell_type": "code",
   "execution_count": 23,
   "id": "e8b7a5d1",
   "metadata": {},
   "outputs": [
    {
     "data": {
      "text/plain": [
       "array([1, 2, 3, 4])"
      ]
     },
     "execution_count": 23,
     "metadata": {},
     "output_type": "execute_result"
    }
   ],
   "source": [
    "# 计算各个元素的绝对值\n",
    "np.abs(np.arange(1,5))"
   ]
  },
  {
   "cell_type": "markdown",
   "id": "1f99bb92",
   "metadata": {},
   "source": [
    "## 1.4 制造随机数"
   ]
  },
  {
   "cell_type": "code",
   "execution_count": 24,
   "id": "986160ae",
   "metadata": {},
   "outputs": [
    {
     "name": "stdout",
     "output_type": "stream",
     "text": [
      "[[0.77871238 0.21100229 0.69052051 0.91309704 0.7655684 ]\n",
      " [0.82432556 0.61605087 0.22958667 0.8654768  0.85921136]\n",
      " [0.07152624 0.4912109  0.18524835 0.10302316 0.18218113]\n",
      " [0.35418698 0.26239631 0.51294209 0.11071256 0.63740707]\n",
      " [0.41311158 0.89756948 0.89511186 0.86196821 0.55249305]]\n"
     ]
    }
   ],
   "source": [
    "print( np.random.rand(5,5) )"
   ]
  },
  {
   "cell_type": "code",
   "execution_count": 25,
   "id": "c3fa3eb4",
   "metadata": {},
   "outputs": [
    {
     "name": "stdout",
     "output_type": "stream",
     "text": [
      "[[0.92440068 0.18955247 0.55530979 0.60131073 0.89646756]\n",
      " [0.6671816  0.09658523 0.23113908 0.69416441 0.36321157]\n",
      " [0.58702998 0.64824768 0.96230375 0.41414135 0.68140457]\n",
      " [0.37174061 0.75790262 0.54629799 0.23796997 0.87384788]\n",
      " [0.10121522 0.08146323 0.52528526 0.25284946 0.47185468]]\n"
     ]
    }
   ],
   "source": [
    "print( np.random.uniform(0, 1, size=(5,5)) )"
   ]
  },
  {
   "cell_type": "code",
   "execution_count": 26,
   "id": "b46a6b91",
   "metadata": {},
   "outputs": [
    {
     "name": "stdout",
     "output_type": "stream",
     "text": [
      "[[3 8 5 6 5]\n",
      " [2 8 3 5 9]\n",
      " [7 4 9 5 6]\n",
      " [1 1 8 0 7]\n",
      " [5 6 9 5 9]]\n"
     ]
    }
   ],
   "source": [
    "print( np.random.randint(0, 10, size=(5,5)) )"
   ]
  },
  {
   "cell_type": "code",
   "execution_count": 27,
   "id": "1ed4d0de",
   "metadata": {},
   "outputs": [
    {
     "name": "stdout",
     "output_type": "stream",
     "text": [
      "[[-1.45558473 -0.85622501 -0.55784763 -0.2708915  -0.88308935]\n",
      " [ 3.37007365 -0.95722823  2.90623484 -1.47689277 -0.96219421]\n",
      " [ 0.69550896 -0.17023134 -0.82167888  0.37536106 -0.52401171]\n",
      " [-0.28315369  2.1759043  -1.75123672 -1.49618023  0.07097634]\n",
      " [-1.7080525   0.97569435 -1.78029102 -0.28271159 -0.05889504]]\n"
     ]
    }
   ],
   "source": [
    "print( np.random.randn(5,5) )"
   ]
  },
  {
   "cell_type": "code",
   "execution_count": 28,
   "id": "8a7ab0fc",
   "metadata": {},
   "outputs": [
    {
     "name": "stdout",
     "output_type": "stream",
     "text": [
      "[[ 0.00280084  0.83778215  0.52947246  0.40842442  0.73983035]\n",
      " [-2.44313214  0.31378212  0.27705944  0.19353715  1.8663426 ]\n",
      " [-1.65996287  1.60750982  1.32275945  0.20854577  1.85458187]\n",
      " [-0.16649902  0.36404739 -1.33870956 -0.42681328  0.31308893]\n",
      " [-1.37391606 -0.75459005 -1.63332974 -1.57849983 -0.5121208 ]]\n"
     ]
    }
   ],
   "source": [
    "print( np.random.normal(0, 1, size=(5,5)) )"
   ]
  },
  {
   "cell_type": "markdown",
   "id": "0693934e",
   "metadata": {},
   "source": [
    "## 1.5 numpy的ndarray转换成python的列表类型"
   ]
  },
  {
   "cell_type": "code",
   "execution_count": 29,
   "id": "fcfce9be",
   "metadata": {},
   "outputs": [
    {
     "name": "stdout",
     "output_type": "stream",
     "text": [
      "[[1, 2, 3], [4, 5, 6], [7, 8, 9]]\n"
     ]
    }
   ],
   "source": [
    "ls = [[1,2,3],\n",
    "      [4,5,6],\n",
    "      [7,8,9]]\n",
    "array = np.array(ls)\n",
    "print(array.tolist())"
   ]
  },
  {
   "cell_type": "code",
   "execution_count": 30,
   "id": "9c397875",
   "metadata": {},
   "outputs": [
    {
     "name": "stdout",
     "output_type": "stream",
     "text": [
      "[1, 2, 3, 4, 5, 6, 7, 8, 9]\n"
     ]
    }
   ],
   "source": [
    "print(array.flatten().tolist())"
   ]
  },
  {
   "cell_type": "markdown",
   "id": "09aa4f87",
   "metadata": {},
   "source": [
    "## 1.6 ndarray和list的区别？？"
   ]
  },
  {
   "cell_type": "code",
   "execution_count": 31,
   "id": "afd2bea9",
   "metadata": {},
   "outputs": [
    {
     "name": "stdout",
     "output_type": "stream",
     "text": [
      "array1 + array2 = \n",
      " [[4 4 4]\n",
      " [4 4 4]\n",
      " [4 4 4]]\n",
      "array1 - array2 = \n",
      " [[-2  0  2]\n",
      " [-2  0  2]\n",
      " [-2  0  2]]\n",
      "array_diff_squared ** 2 = \n",
      " [[4 0 4]\n",
      " [4 0 4]\n",
      " [4 0 4]]\n",
      "sqrt(array_diff_squared) = \n",
      " [[2. 0. 2.]\n",
      " [2. 0. 2.]\n",
      " [2. 0. 2.]]\n",
      "sum(array_diff_squared_sqrted) = \n",
      " 12.0\n"
     ]
    }
   ],
   "source": [
    "# ndarray\n",
    "array1 = np.array([[1,2,3],\n",
    "                   [1,2,3],\n",
    "                   [1,2,3]])\n",
    "\n",
    "array2 = np.array([[3,2,1],\n",
    "                   [3,2,1],\n",
    "                   [3,2,1]])\n",
    "\n",
    "array_sum = array1 + array2\n",
    "print('array1 + array2 = \\n', array_sum)\n",
    "\n",
    "array_diff = array1 - array2\n",
    "print('array1 - array2 = \\n', array_diff)\n",
    "\n",
    "array_diff_squared = array_diff ** 2\n",
    "print('array_diff_squared ** 2 = \\n', array_diff_squared)\n",
    "\n",
    "array_diff_squared_sqrted = np.sqrt(array_diff_squared)\n",
    "print('sqrt(array_diff_squared) = \\n', array_diff_squared_sqrted)\n",
    "\n",
    "array_diff_squared_sqrted_sumed = np.sum(array_diff_squared_sqrted)\n",
    "print('sum(array_diff_squared_sqrted) = \\n', array_diff_squared_sqrted_sumed)"
   ]
  },
  {
   "cell_type": "code",
   "execution_count": 32,
   "id": "122a3292",
   "metadata": {},
   "outputs": [
    {
     "name": "stdout",
     "output_type": "stream",
     "text": [
      "[[1, 2, 3], [1, 2, 3], [1, 2, 3], [3, 2, 1], [3, 2, 1], [3, 2, 1]]\n"
     ]
    },
    {
     "ename": "TypeError",
     "evalue": "unsupported operand type(s) for ** or pow(): 'list' and 'int'",
     "output_type": "error",
     "traceback": [
      "\u001b[1;31m---------------------------------------------------------------------------\u001b[0m",
      "\u001b[1;31mTypeError\u001b[0m                                 Traceback (most recent call last)",
      "\u001b[1;32m<ipython-input-32-5bfcd0954df7>\u001b[0m in \u001b[0;36m<module>\u001b[1;34m\u001b[0m\n\u001b[0;32m     10\u001b[0m \u001b[0mprint\u001b[0m\u001b[1;33m(\u001b[0m\u001b[0mls1\u001b[0m \u001b[1;33m+\u001b[0m \u001b[0mls2\u001b[0m\u001b[1;33m)\u001b[0m\u001b[1;33m\u001b[0m\u001b[1;33m\u001b[0m\u001b[0m\n\u001b[0;32m     11\u001b[0m \u001b[1;33m\u001b[0m\u001b[0m\n\u001b[1;32m---> 12\u001b[1;33m \u001b[0mprint\u001b[0m\u001b[1;33m(\u001b[0m\u001b[0mls1\u001b[0m \u001b[1;33m**\u001b[0m \u001b[1;36m2\u001b[0m\u001b[1;33m)\u001b[0m\u001b[1;33m\u001b[0m\u001b[1;33m\u001b[0m\u001b[0m\n\u001b[0m",
      "\u001b[1;31mTypeError\u001b[0m: unsupported operand type(s) for ** or pow(): 'list' and 'int'"
     ]
    }
   ],
   "source": [
    "# list\n",
    "ls1 = [[1,2,3],\n",
    "       [1,2,3],\n",
    "       [1,2,3]]\n",
    "\n",
    "ls2 = [[3,2,1],\n",
    "       [3,2,1],\n",
    "       [3,2,1]]\n",
    "\n",
    "print(ls1 + ls2)\n",
    "\n",
    "print(ls1 ** 2)"
   ]
  },
  {
   "cell_type": "markdown",
   "id": "09ff87d6",
   "metadata": {},
   "source": [
    "以上内容可基本支撑该课程实验\n",
    "\n",
    "更多教程详见网页：https://www.numpy.org.cn/user/quickstart.html"
   ]
  }
 ],
 "metadata": {
  "kernelspec": {
   "display_name": "Python 3",
   "language": "python",
   "name": "python3"
  },
  "language_info": {
   "codemirror_mode": {
    "name": "ipython",
    "version": 3
   },
   "file_extension": ".py",
   "mimetype": "text/x-python",
   "name": "python",
   "nbconvert_exporter": "python",
   "pygments_lexer": "ipython3",
   "version": "3.8.11"
  }
 },
 "nbformat": 4,
 "nbformat_minor": 5
}
